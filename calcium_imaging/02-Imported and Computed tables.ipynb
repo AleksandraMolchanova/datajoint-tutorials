{
 "cells": [
  {
   "cell_type": "markdown",
   "metadata": {},
   "source": [
    "In this notebook, we would like to introduce Imported and Computed tables that allow automatic processing.\n",
    "We are using a simple calcium imaging pipeline as an example."
   ]
  },
  {
   "cell_type": "code",
   "execution_count": null,
   "metadata": {},
   "outputs": [],
   "source": []
  },
  {
   "cell_type": "markdown",
   "metadata": {},
   "source": [
    "# Import the module that defines the upstream tables"
   ]
  },
  {
   "cell_type": "markdown",
   "metadata": {},
   "source": [
    "To set up a simple calcium imaging data pipeline, we will extend the previous pipeline created in notebook 01. Let's first import a pre-prepared module that contains the table definition."
   ]
  },
  {
   "cell_type": "code",
   "execution_count": 2,
   "metadata": {},
   "outputs": [],
   "source": [
    "import experiment"
   ]
  },
  {
   "cell_type": "markdown",
   "metadata": {},
   "source": [
    "Take a quick look at the tables Mouse and Session"
   ]
  },
  {
   "cell_type": "code",
   "execution_count": 3,
   "metadata": {},
   "outputs": [
    {
     "data": {
      "text/html": [
       "\n",
       "        \n",
       "        <style type=\"text/css\">\n",
       "            .Relation{\n",
       "                border-collapse:collapse;\n",
       "            }\n",
       "            .Relation th{\n",
       "                background: #A0A0A0; color: #ffffff; padding:4px; border:#f0e0e0 1px solid;\n",
       "                font-weight: normal; font-family: monospace; font-size: 100%;\n",
       "            }\n",
       "            .Relation td{\n",
       "                padding:4px; border:#f0e0e0 1px solid; font-size:100%;\n",
       "            }\n",
       "            .Relation tr:nth-child(odd){\n",
       "                background: #ffffff;\n",
       "            }\n",
       "            .Relation tr:nth-child(even){\n",
       "                background: #f3f1ff;\n",
       "            }\n",
       "            /* Tooltip container */\n",
       "            .djtooltip {\n",
       "            }\n",
       "            /* Tooltip text */\n",
       "            .djtooltip .djtooltiptext {\n",
       "                visibility: hidden;\n",
       "                width: 120px;\n",
       "                background-color: black;\n",
       "                color: #fff;\n",
       "                text-align: center;\n",
       "                padding: 5px 0;\n",
       "                border-radius: 6px;\n",
       "                /* Position the tooltip text - see examples below! */\n",
       "                position: absolute;\n",
       "                z-index: 1;\n",
       "            }\n",
       "            #primary {\n",
       "                font-weight: bold;\n",
       "                color: black;\n",
       "            }\n",
       "\n",
       "            #nonprimary {\n",
       "                font-weight: normal;\n",
       "                color: white;\n",
       "            }\n",
       "\n",
       "            /* Show the tooltip text when you mouse over the tooltip container */\n",
       "            .djtooltip:hover .djtooltiptext {\n",
       "                visibility: visible;\n",
       "            }\n",
       "        </style>\n",
       "        \n",
       "        <b>Experimental animals</b>\n",
       "            <div style=\"max-height:1000px;max-width:1500px;overflow:auto;\">\n",
       "            <table border=\"1\" class=\"Relation\">\n",
       "                <thead> <tr style=\"text-align: right;\"> <th> <div class=\"djtooltip\">\n",
       "                                <p id=\"primary\">mouse_id</p>\n",
       "                                <span class=\"djtooltiptext\">Unique animal ID</span>\n",
       "                            </div></th><th><div class=\"djtooltip\">\n",
       "                                <p id=\"nonprimary\">dob</p>\n",
       "                                <span class=\"djtooltiptext\">date of birth</span>\n",
       "                            </div></th><th><div class=\"djtooltip\">\n",
       "                                <p id=\"nonprimary\">sex</p>\n",
       "                                <span class=\"djtooltiptext\">sex</span>\n",
       "                            </div></th><th><div class=\"djtooltip\">\n",
       "                                <p id=\"nonprimary\">mouse_notes</p>\n",
       "                                <span class=\"djtooltiptext\">other comments and distinguishing features</span>\n",
       "                            </div> </th> </tr> </thead>\n",
       "                <tbody> <tr> <td>0</td>\n",
       "<td>2019-01-05</td>\n",
       "<td>M</td>\n",
       "<td></td></tr><tr><td>1</td>\n",
       "<td>2020-01-06</td>\n",
       "<td>M</td>\n",
       "<td></td></tr><tr><td>2</td>\n",
       "<td>2019-08-23</td>\n",
       "<td>M</td>\n",
       "<td></td></tr><tr><td>3</td>\n",
       "<td>2020-01-22</td>\n",
       "<td>F</td>\n",
       "<td></td> </tr> </tbody>\n",
       "            </table>\n",
       "            \n",
       "            <p>Total: 4</p></div>\n",
       "            "
      ],
      "text/plain": [
       "*mouse_id    dob            sex     mouse_notes   \n",
       "+----------+ +------------+ +-----+ +------------+\n",
       "0            2019-01-05     M                     \n",
       "1            2020-01-06     M                     \n",
       "2            2019-08-23     M                     \n",
       "3            2020-01-22     F                     \n",
       " (Total: 4)"
      ]
     },
     "execution_count": 3,
     "metadata": {},
     "output_type": "execute_result"
    }
   ],
   "source": [
    "experiment.Mouse()"
   ]
  },
  {
   "cell_type": "code",
   "execution_count": 4,
   "metadata": {},
   "outputs": [
    {
     "data": {
      "text/html": [
       "\n",
       "        \n",
       "        <style type=\"text/css\">\n",
       "            .Relation{\n",
       "                border-collapse:collapse;\n",
       "            }\n",
       "            .Relation th{\n",
       "                background: #A0A0A0; color: #ffffff; padding:4px; border:#f0e0e0 1px solid;\n",
       "                font-weight: normal; font-family: monospace; font-size: 100%;\n",
       "            }\n",
       "            .Relation td{\n",
       "                padding:4px; border:#f0e0e0 1px solid; font-size:100%;\n",
       "            }\n",
       "            .Relation tr:nth-child(odd){\n",
       "                background: #ffffff;\n",
       "            }\n",
       "            .Relation tr:nth-child(even){\n",
       "                background: #f3f1ff;\n",
       "            }\n",
       "            /* Tooltip container */\n",
       "            .djtooltip {\n",
       "            }\n",
       "            /* Tooltip text */\n",
       "            .djtooltip .djtooltiptext {\n",
       "                visibility: hidden;\n",
       "                width: 120px;\n",
       "                background-color: black;\n",
       "                color: #fff;\n",
       "                text-align: center;\n",
       "                padding: 5px 0;\n",
       "                border-radius: 6px;\n",
       "                /* Position the tooltip text - see examples below! */\n",
       "                position: absolute;\n",
       "                z-index: 1;\n",
       "            }\n",
       "            #primary {\n",
       "                font-weight: bold;\n",
       "                color: black;\n",
       "            }\n",
       "\n",
       "            #nonprimary {\n",
       "                font-weight: normal;\n",
       "                color: white;\n",
       "            }\n",
       "\n",
       "            /* Show the tooltip text when you mouse over the tooltip container */\n",
       "            .djtooltip:hover .djtooltiptext {\n",
       "                visibility: visible;\n",
       "            }\n",
       "        </style>\n",
       "        \n",
       "        <b></b>\n",
       "            <div style=\"max-height:1000px;max-width:1500px;overflow:auto;\">\n",
       "            <table border=\"1\" class=\"Relation\">\n",
       "                <thead> <tr style=\"text-align: right;\"> <th> <div class=\"djtooltip\">\n",
       "                                <p id=\"primary\">mouse_id</p>\n",
       "                                <span class=\"djtooltiptext\">Unique animal ID</span>\n",
       "                            </div></th><th><div class=\"djtooltip\">\n",
       "                                <p id=\"primary\">session_number</p>\n",
       "                                <span class=\"djtooltiptext\">session number</span>\n",
       "                            </div></th><th><div class=\"djtooltip\">\n",
       "                                <p id=\"nonprimary\">session_date</p>\n",
       "                                <span class=\"djtooltiptext\">date</span>\n",
       "                            </div></th><th><div class=\"djtooltip\">\n",
       "                                <p id=\"nonprimary\">person</p>\n",
       "                                <span class=\"djtooltiptext\">researcher name</span>\n",
       "                            </div></th><th><div class=\"djtooltip\">\n",
       "                                <p id=\"nonprimary\">data_path</p>\n",
       "                                <span class=\"djtooltiptext\">file path for TIFF stacks</span>\n",
       "                            </div> </th> </tr> </thead>\n",
       "                <tbody> <tr> <td>0</td>\n",
       "<td>1</td>\n",
       "<td>2019-12-03</td>\n",
       "<td>Shan</td>\n",
       "<td>data</td></tr><tr><td>1</td>\n",
       "<td>1</td>\n",
       "<td>2020-03-02</td>\n",
       "<td>Thinh</td>\n",
       "<td>data</td> </tr> </tbody>\n",
       "            </table>\n",
       "            \n",
       "            <p>Total: 2</p></div>\n",
       "            "
      ],
      "text/plain": [
       "*mouse_id    *session_numbe session_date   person     data_path    \n",
       "+----------+ +------------+ +------------+ +--------+ +-----------+\n",
       "0            1              2019-12-03     Shan       data         \n",
       "1            1              2020-03-02     Thinh      data         \n",
       " (Total: 2)"
      ]
     },
     "execution_count": 4,
     "metadata": {},
     "output_type": "execute_result"
    }
   ],
   "source": [
    "experiment.Session()"
   ]
  },
  {
   "cell_type": "markdown",
   "metadata": {},
   "source": [
    "# Define table `Scan` for meta information of each calcium imaging scan"
   ]
  },
  {
   "cell_type": "markdown",
   "metadata": {},
   "source": [
    "Now let's define a table Scan that describe a scanning in an experimental session that stores the meta information of a particular scan."
   ]
  },
  {
   "cell_type": "code",
   "execution_count": 6,
   "metadata": {},
   "outputs": [],
   "source": [
    "import datajoint as dj\n",
    "\n",
    "# still using the same schema\n",
    "schema = dj.schema('shan_calcium')\n",
    "\n",
    "@schema\n",
    "class Scan(dj.Manual):\n",
    "    definition = \"\"\"\n",
    "    -> experiment.Session\n",
    "    scan_idx    : int           # scan index\n",
    "    ---\n",
    "    depth       : float         # depth of this scan\n",
    "    wavelength  : float         # wavelength used\n",
    "    laser_power : float         # power of the laser used\n",
    "    fps         : float         # frames per second\n",
    "    file_name    : varchar(128) # name of the tif file\n",
    "    \"\"\""
   ]
  },
  {
   "cell_type": "markdown",
   "metadata": {},
   "source": [
    "This table is dependent on the table `experiment.Session`, inheriting its primary key attributes, with an additional primary key attribute `scan_idx`. One session could contain multiple scans, which is another example of one-to-many relationship. We could take a look at the ERD again."
   ]
  },
  {
   "cell_type": "code",
   "execution_count": 15,
   "metadata": {},
   "outputs": [
    {
     "data": {
      "image/svg+xml": [
       "<svg height=\"185pt\" viewBox=\"0.00 0.00 129.39 185.00\" width=\"129pt\" xmlns=\"http://www.w3.org/2000/svg\" xmlns:xlink=\"http://www.w3.org/1999/xlink\">\n",
       "<g class=\"graph\" id=\"graph0\" transform=\"scale(1 1) rotate(0) translate(4 181)\">\n",
       "<title>%3</title>\n",
       "<polygon fill=\"#ffffff\" points=\"-4,4 -4,-181 125.3867,-181 125.3867,4 -4,4\" stroke=\"transparent\"/>\n",
       "<!-- Scan -->\n",
       "<g class=\"node\" id=\"node1\">\n",
       "<title>Scan</title>\n",
       "<g id=\"a_node1\"><a xlink:title=\"→ experiment.Session\r",
       "scan_idx             \r",
       "------------------------------\r",
       "depth                \r",
       "wavelength           \r",
       "laser_power          \r",
       "fps                  \r",
       "filename             \r",
       "\">\n",
       "<polygon fill=\"#00ff00\" fill-opacity=\"0.188235\" points=\"82.5464,-35 38.8404,-35 38.8404,0 82.5464,0 82.5464,-35\" stroke=\"#00ff00\" stroke-opacity=\"0.188235\"/>\n",
       "<text fill=\"#006400\" font-family=\"arial\" font-size=\"12.00\" text-anchor=\"start\" text-decoration=\"underline\" x=\"47.0176\" y=\"-15.7994\">Scan</text>\n",
       "</a>\n",
       "</g>\n",
       "</g>\n",
       "<!-- experiment.Mouse -->\n",
       "<g class=\"node\" id=\"node2\">\n",
       "<title>experiment.Mouse</title>\n",
       "<g id=\"a_node2\"><a xlink:title=\"mouse_id             \r",
       "------------------------------\r",
       "dob=null             \r",
       "sex=&quot;unknown&quot;        \r",
       "mouse_notes=&quot;&quot;       \r",
       "\">\n",
       "<polygon fill=\"#00ff00\" fill-opacity=\"0.188235\" points=\"117.9066,-177 3.4801,-177 3.4801,-142 117.9066,-142 117.9066,-177\" stroke=\"#00ff00\" stroke-opacity=\"0.188235\"/>\n",
       "<text fill=\"#006400\" font-family=\"arial\" font-size=\"12.00\" text-anchor=\"start\" text-decoration=\"underline\" x=\"11.3369\" y=\"-157.7994\">experiment.Mouse</text>\n",
       "</a>\n",
       "</g>\n",
       "</g>\n",
       "<!-- experiment.Session -->\n",
       "<g class=\"node\" id=\"node3\">\n",
       "<title>experiment.Session</title>\n",
       "<g id=\"a_node3\"><a xlink:title=\"→ experiment.Mouse\r",
       "session_number       \r",
       "------------------------------\r",
       "session_date         \r",
       "person               \r",
       "data_path            \r",
       "\">\n",
       "<polygon fill=\"#00ff00\" fill-opacity=\"0.188235\" points=\"121.5807,-106 -.194,-106 -.194,-71 121.5807,-71 121.5807,-106\" stroke=\"#00ff00\" stroke-opacity=\"0.188235\"/>\n",
       "<text fill=\"#006400\" font-family=\"arial\" font-size=\"12.00\" text-anchor=\"start\" text-decoration=\"underline\" x=\"8\" y=\"-86.7994\">experiment.Session</text>\n",
       "</a>\n",
       "</g>\n",
       "</g>\n",
       "<!-- experiment.Mouse&#45;&gt;experiment.Session -->\n",
       "<g class=\"edge\" id=\"edge1\">\n",
       "<title>experiment.Mouse-&gt;experiment.Session</title>\n",
       "<path d=\"M60.6934,-141.9494C60.6934,-131.1083 60.6934,-117.2366 60.6934,-106.3418\" fill=\"none\" stroke=\"#000000\" stroke-opacity=\"0.250980\" stroke-width=\".75\"/>\n",
       "</g>\n",
       "<!-- experiment.Session&#45;&gt;Scan -->\n",
       "<g class=\"edge\" id=\"edge2\">\n",
       "<title>experiment.Session-&gt;Scan</title>\n",
       "<path d=\"M60.6934,-70.9494C60.6934,-60.1083 60.6934,-46.2366 60.6934,-35.3418\" fill=\"none\" stroke=\"#000000\" stroke-opacity=\"0.250980\" stroke-width=\".75\"/>\n",
       "</g>\n",
       "</g>\n",
       "</svg>"
      ],
      "text/plain": [
       "<datajoint.diagram.Diagram at 0x1c21a8b898>"
      ]
     },
     "execution_count": 15,
     "metadata": {},
     "output_type": "execute_result"
    }
   ],
   "source": [
    "dj.ERD(experiment) + Scan"
   ]
  },
  {
   "cell_type": "markdown",
   "metadata": {},
   "source": [
    "The `____` indicates additional primary key attributes apart from the ones inherited from its parents."
   ]
  },
  {
   "cell_type": "markdown",
   "metadata": {},
   "source": [
    "Here we have two tif files of scanning in the `data` folder `example_scan_01.tif` and `example_scan_02.tif` "
   ]
  },
  {
   "cell_type": "markdown",
   "metadata": {},
   "source": [
    "Let's insert these meta information manually."
   ]
  },
  {
   "cell_type": "code",
   "execution_count": 14,
   "metadata": {},
   "outputs": [],
   "source": [
    "Scan.insert([\n",
    "    {'mouse_id': 0, 'session_number': 1, 'scan_idx': 1, \n",
    "     'depth': 150, 'wavelength': 920, 'laser_power': 26, 'fps': 15, 'file_name': 'example_scan_01.tif'},\n",
    "    {'mouse_id': 0, 'session_number': 1, 'scan_idx': 2, \n",
    "     'depth': 200, 'wavelength': 920, 'laser_power': 24, 'fps': 15, 'file_name': 'example_scan_02.tif'},\n",
    "])"
   ]
  },
  {
   "cell_type": "code",
   "execution_count": 23,
   "metadata": {},
   "outputs": [
    {
     "data": {
      "text/html": [
       "\n",
       "        \n",
       "        <style type=\"text/css\">\n",
       "            .Relation{\n",
       "                border-collapse:collapse;\n",
       "            }\n",
       "            .Relation th{\n",
       "                background: #A0A0A0; color: #ffffff; padding:4px; border:#f0e0e0 1px solid;\n",
       "                font-weight: normal; font-family: monospace; font-size: 100%;\n",
       "            }\n",
       "            .Relation td{\n",
       "                padding:4px; border:#f0e0e0 1px solid; font-size:100%;\n",
       "            }\n",
       "            .Relation tr:nth-child(odd){\n",
       "                background: #ffffff;\n",
       "            }\n",
       "            .Relation tr:nth-child(even){\n",
       "                background: #f3f1ff;\n",
       "            }\n",
       "            /* Tooltip container */\n",
       "            .djtooltip {\n",
       "            }\n",
       "            /* Tooltip text */\n",
       "            .djtooltip .djtooltiptext {\n",
       "                visibility: hidden;\n",
       "                width: 120px;\n",
       "                background-color: black;\n",
       "                color: #fff;\n",
       "                text-align: center;\n",
       "                padding: 5px 0;\n",
       "                border-radius: 6px;\n",
       "                /* Position the tooltip text - see examples below! */\n",
       "                position: absolute;\n",
       "                z-index: 1;\n",
       "            }\n",
       "            #primary {\n",
       "                font-weight: bold;\n",
       "                color: black;\n",
       "            }\n",
       "\n",
       "            #nonprimary {\n",
       "                font-weight: normal;\n",
       "                color: white;\n",
       "            }\n",
       "\n",
       "            /* Show the tooltip text when you mouse over the tooltip container */\n",
       "            .djtooltip:hover .djtooltiptext {\n",
       "                visibility: visible;\n",
       "            }\n",
       "        </style>\n",
       "        \n",
       "        <b></b>\n",
       "            <div style=\"max-height:1000px;max-width:1500px;overflow:auto;\">\n",
       "            <table border=\"1\" class=\"Relation\">\n",
       "                <thead> <tr style=\"text-align: right;\"> <th> <div class=\"djtooltip\">\n",
       "                                <p id=\"primary\">mouse_id</p>\n",
       "                                <span class=\"djtooltiptext\">Unique animal ID</span>\n",
       "                            </div></th><th><div class=\"djtooltip\">\n",
       "                                <p id=\"primary\">session_number</p>\n",
       "                                <span class=\"djtooltiptext\">session number</span>\n",
       "                            </div></th><th><div class=\"djtooltip\">\n",
       "                                <p id=\"primary\">scan_idx</p>\n",
       "                                <span class=\"djtooltiptext\">scan index</span>\n",
       "                            </div></th><th><div class=\"djtooltip\">\n",
       "                                <p id=\"nonprimary\">depth</p>\n",
       "                                <span class=\"djtooltiptext\">depth of this scan</span>\n",
       "                            </div></th><th><div class=\"djtooltip\">\n",
       "                                <p id=\"nonprimary\">wavelength</p>\n",
       "                                <span class=\"djtooltiptext\">wavelength used</span>\n",
       "                            </div></th><th><div class=\"djtooltip\">\n",
       "                                <p id=\"nonprimary\">laser_power</p>\n",
       "                                <span class=\"djtooltiptext\">power of the laser used</span>\n",
       "                            </div></th><th><div class=\"djtooltip\">\n",
       "                                <p id=\"nonprimary\">fps</p>\n",
       "                                <span class=\"djtooltiptext\">frames per second</span>\n",
       "                            </div></th><th><div class=\"djtooltip\">\n",
       "                                <p id=\"nonprimary\">file_name</p>\n",
       "                                <span class=\"djtooltiptext\">name of the tif file</span>\n",
       "                            </div> </th> </tr> </thead>\n",
       "                <tbody> <tr> <td>0</td>\n",
       "<td>1</td>\n",
       "<td>1</td>\n",
       "<td>150.0</td>\n",
       "<td>920.0</td>\n",
       "<td>26.0</td>\n",
       "<td>15.0</td>\n",
       "<td>example_scan_01.tif</td></tr><tr><td>0</td>\n",
       "<td>1</td>\n",
       "<td>2</td>\n",
       "<td>200.0</td>\n",
       "<td>920.0</td>\n",
       "<td>24.0</td>\n",
       "<td>15.0</td>\n",
       "<td>example_scan_02.tif</td> </tr> </tbody>\n",
       "            </table>\n",
       "            \n",
       "            <p>Total: 2</p></div>\n",
       "            "
      ],
      "text/plain": [
       "*mouse_id    *session_numbe *scan_idx    depth     wavelength     laser_power    fps      file_name     \n",
       "+----------+ +------------+ +----------+ +-------+ +------------+ +------------+ +------+ +------------+\n",
       "0            1              1            150.0     920.0          26.0           15.0     example_scan_0\n",
       "0            1              2            200.0     920.0          24.0           15.0     example_scan_0\n",
       " (Total: 2)"
      ]
     },
     "execution_count": 23,
     "metadata": {},
     "output_type": "execute_result"
    }
   ],
   "source": [
    "Scan()"
   ]
  },
  {
   "cell_type": "markdown",
   "metadata": {},
   "source": [
    "# Imported table for average fluorescence across frames"
   ]
  },
  {
   "cell_type": "markdown",
   "metadata": {},
   "source": [
    "Let's first load one raw data and take a look at the data:"
   ]
  },
  {
   "cell_type": "code",
   "execution_count": 98,
   "metadata": {},
   "outputs": [
    {
     "name": "stdout",
     "output_type": "stream",
     "text": [
      "(100, 128, 128)\n"
     ]
    }
   ],
   "source": [
    "from skimage import io\n",
    "im = io.imread('data/example_scan_01.tif')\n",
    "print(im.shape)"
   ]
  },
  {
   "cell_type": "markdown",
   "metadata": {},
   "source": [
    "This tiff file contains 100 frames. Let's take the average of the images over frames."
   ]
  },
  {
   "cell_type": "code",
   "execution_count": 38,
   "metadata": {},
   "outputs": [
    {
     "data": {
      "text/plain": [
       "<matplotlib.image.AxesImage at 0x1c28e72780>"
      ]
     },
     "execution_count": 38,
     "metadata": {},
     "output_type": "execute_result"
    },
    {
     "data": {
      "image/png": "[encoded data removed]",
      "text/plain": [
       "<Figure size 432x288 with 1 Axes>"
      ]
     },
     "metadata": {
      "needs_background": "light"
     },
     "output_type": "display_data"
    }
   ],
   "source": [
    "import numpy as np\n",
    "import matplotlib.pyplot as plt\n",
    "avg_image = np.mean(im, axis=0)\n",
    "plt.imshow(avg_image, cmap=plt.cm.gray)"
   ]
  },
  {
   "cell_type": "markdown",
   "metadata": {},
   "source": [
    "Now let's create a table `AverageFluorescence` to compute and save the average fluorescence. \n",
    "\n",
    "Here we introduce a new type of table **imported** table, that allows auto processing of each dataset. Similar as the manual table, an imported table is created by declaring a class, but this time, the class need to inherit another datajoint class, `dj.Imported`. This class allows definition of a special method `make`, where the computation for one data set could be defined."
   ]
  },
  {
   "cell_type": "code",
   "execution_count": 44,
   "metadata": {},
   "outputs": [],
   "source": [
    "import os\n",
    "@schema\n",
    "class AverageFluorescence(dj.Imported):\n",
    "    definition = \"\"\"\n",
    "    -> Scan\n",
    "    ---\n",
    "    average_fluorescence   : longblob     # average fluorescence across frames\n",
    "    \"\"\"\n",
    "    def make(self, key):  # key is the primary key of one of the entries in the table `Scan`\n",
    "        # fetch data directory from table Session\n",
    "        data_path = (experiment.Session & key).fetch1('data_path')\n",
    "        \n",
    "        # fetch data file name from table Scan\n",
    "        file_name = (Scan & key).fetch1('file_name')\n",
    "        \n",
    "        # load the file\n",
    "        im = io.imread(os.path.join(data_path, file_name))\n",
    "        # compute the average image across the frames\n",
    "        avg_image = np.mean(im, axis=0)\n",
    "        \n",
    "        # Now prepare the entry as a dictionary with all fields defined in the table.\n",
    "        entry = dict(**key, average_fluorescence=avg_image) # inherit the primary key from the table Scan\n",
    "        \n",
    "        # insert entry with the method `insert1()`\n",
    "        self.insert1(entry)"
   ]
  },
  {
   "cell_type": "markdown",
   "metadata": {},
   "source": [
    "This table shares the exact same primary key as the table `Scan`. The `make` function takes a single primary key of an entry in the table `Scan`. It is called by a method called `populate` that does two things:\n",
    "1. From the table definition, get the query that needs to computed, which we called `key_source`, as a property of the current table. By default, it would be the join result of the primary dependent tables. The actual entries that are populated are the `key_source` minus the ones that have been computed before. \n",
    "2. Call `make` function defined in the class, and compute one by one, with each individual key from the `key_source`"
   ]
  },
  {
   "cell_type": "code",
   "execution_count": 42,
   "metadata": {},
   "outputs": [
    {
     "data": {
      "text/html": [
       "\n",
       "        \n",
       "        <style type=\"text/css\">\n",
       "            .Relation{\n",
       "                border-collapse:collapse;\n",
       "            }\n",
       "            .Relation th{\n",
       "                background: #A0A0A0; color: #ffffff; padding:4px; border:#f0e0e0 1px solid;\n",
       "                font-weight: normal; font-family: monospace; font-size: 100%;\n",
       "            }\n",
       "            .Relation td{\n",
       "                padding:4px; border:#f0e0e0 1px solid; font-size:100%;\n",
       "            }\n",
       "            .Relation tr:nth-child(odd){\n",
       "                background: #ffffff;\n",
       "            }\n",
       "            .Relation tr:nth-child(even){\n",
       "                background: #f3f1ff;\n",
       "            }\n",
       "            /* Tooltip container */\n",
       "            .djtooltip {\n",
       "            }\n",
       "            /* Tooltip text */\n",
       "            .djtooltip .djtooltiptext {\n",
       "                visibility: hidden;\n",
       "                width: 120px;\n",
       "                background-color: black;\n",
       "                color: #fff;\n",
       "                text-align: center;\n",
       "                padding: 5px 0;\n",
       "                border-radius: 6px;\n",
       "                /* Position the tooltip text - see examples below! */\n",
       "                position: absolute;\n",
       "                z-index: 1;\n",
       "            }\n",
       "            #primary {\n",
       "                font-weight: bold;\n",
       "                color: black;\n",
       "            }\n",
       "\n",
       "            #nonprimary {\n",
       "                font-weight: normal;\n",
       "                color: white;\n",
       "            }\n",
       "\n",
       "            /* Show the tooltip text when you mouse over the tooltip container */\n",
       "            .djtooltip:hover .djtooltiptext {\n",
       "                visibility: visible;\n",
       "            }\n",
       "        </style>\n",
       "        \n",
       "        \n",
       "            <div style=\"max-height:1000px;max-width:1500px;overflow:auto;\">\n",
       "            <table border=\"1\" class=\"Relation\">\n",
       "                <thead> <tr style=\"text-align: right;\"> <th> <div class=\"djtooltip\">\n",
       "                                <p id=\"primary\">mouse_id</p>\n",
       "                                <span class=\"djtooltiptext\">Unique animal ID</span>\n",
       "                            </div></th><th><div class=\"djtooltip\">\n",
       "                                <p id=\"primary\">session_number</p>\n",
       "                                <span class=\"djtooltiptext\">session number</span>\n",
       "                            </div></th><th><div class=\"djtooltip\">\n",
       "                                <p id=\"primary\">scan_idx</p>\n",
       "                                <span class=\"djtooltiptext\">scan index</span>\n",
       "                            </div> </th> </tr> </thead>\n",
       "                <tbody> <tr> <td>0</td>\n",
       "<td>1</td>\n",
       "<td>1</td></tr><tr><td>0</td>\n",
       "<td>1</td>\n",
       "<td>2</td> </tr> </tbody>\n",
       "            </table>\n",
       "            \n",
       "            <p>Total: 2</p></div>\n",
       "            "
      ],
      "text/plain": [
       "*mouse_id    *session_numbe *scan_idx   \n",
       "+----------+ +------------+ +----------+\n",
       "0            1              1           \n",
       "0            1              2           \n",
       " (Total: 2)"
      ]
     },
     "execution_count": 42,
     "metadata": {},
     "output_type": "execute_result"
    }
   ],
   "source": [
    "AverageFluorescence.key_source"
   ]
  },
  {
   "cell_type": "code",
   "execution_count": 45,
   "metadata": {},
   "outputs": [
    {
     "name": "stderr",
     "output_type": "stream",
     "text": [
      "100%|██████████| 2/2 [00:02<00:00,  1.53s/it]\n"
     ]
    }
   ],
   "source": [
    "AverageFluorescence.populate(display_progress=True) # argument `display_progress` shows the progress when populating."
   ]
  },
  {
   "cell_type": "markdown",
   "metadata": {},
   "source": [
    "There were two entries that were populated, consistent with the `key_source`, but if we call `populate` again, there are no more entries populated, because they've already been populated."
   ]
  },
  {
   "cell_type": "code",
   "execution_count": 47,
   "metadata": {},
   "outputs": [
    {
     "name": "stderr",
     "output_type": "stream",
     "text": [
      "0it [00:00, ?it/s]\n"
     ]
    }
   ],
   "source": [
    "AverageFluorescence.populate(display_progress=True)"
   ]
  },
  {
   "cell_type": "markdown",
   "metadata": {},
   "source": [
    "Now instead of loading from the raw tif file, we are able fetch the average fluorescence image from this table."
   ]
  },
  {
   "cell_type": "code",
   "execution_count": 73,
   "metadata": {},
   "outputs": [
    {
     "data": {
      "text/plain": [
       "<matplotlib.image.AxesImage at 0x1c2966fda0>"
      ]
     },
     "execution_count": 73,
     "metadata": {},
     "output_type": "execute_result"
    },
    {
     "data": {
      "image/png": "[encoded data removed]",
      "text/plain": [
       "<Figure size 432x288 with 1 Axes>"
      ]
     },
     "metadata": {
      "needs_background": "light"
     },
     "output_type": "display_data"
    }
   ],
   "source": [
    "avg_images = AverageFluorescence.fetch('average_fluorescence')\n",
    "plt.imshow(avg_images[0], cmap=plt.cm.gray)"
   ]
  },
  {
   "cell_type": "markdown",
   "metadata": {},
   "source": [
    "# Advanced: Lookup table, Computed table, and Part table"
   ]
  },
  {
   "cell_type": "markdown",
   "metadata": {},
   "source": [
    "Now let's perform the segmentation to isolate regions of interest (ROIs). To keep it simple, we just detect the cells by setting up the threshold on the average image. The outcome is different across different threholds we set. Therefore, this threshold is a parameter we could potentially tweak."
   ]
  },
  {
   "cell_type": "code",
   "execution_count": 59,
   "metadata": {},
   "outputs": [
    {
     "data": {
      "text/plain": [
       "<matplotlib.image.AxesImage at 0x1c294e1d30>"
      ]
     },
     "execution_count": 59,
     "metadata": {},
     "output_type": "execute_result"
    },
    {
     "data": {
      "image/png": "[encoded data removed]",
      "text/plain": [
       "<Figure size 432x288 with 1 Axes>"
      ]
     },
     "metadata": {
      "needs_background": "light"
     },
     "output_type": "display_data"
    }
   ],
   "source": [
    "th = 50\n",
    "mask = avg_image > th\n",
    "plt.imshow(mask)"
   ]
  },
  {
   "cell_type": "code",
   "execution_count": 61,
   "metadata": {},
   "outputs": [
    {
     "data": {
      "text/plain": [
       "<matplotlib.image.AxesImage at 0x1c28b8f908>"
      ]
     },
     "execution_count": 61,
     "metadata": {},
     "output_type": "execute_result"
    },
    {
     "data": {
      "image/png": "[encoded data removed]",
      "text/plain": [
       "<Figure size 432x288 with 1 Axes>"
      ]
     },
     "metadata": {
      "needs_background": "light"
     },
     "output_type": "display_data"
    }
   ],
   "source": [
    "th = 60\n",
    "mask = avg_image > th\n",
    "plt.imshow(mask)"
   ]
  },
  {
   "cell_type": "markdown",
   "metadata": {},
   "source": [
    "Now we could use scipy.ndimage to detect the blobs from this binary mask\n",
    "\n",
    "For the detailed tutorial, please refer to https://scipy-lectures.org/advanced/image_processing/index.html#segmentation"
   ]
  },
  {
   "cell_type": "code",
   "execution_count": 56,
   "metadata": {},
   "outputs": [],
   "source": [
    "from scipy import ndimage"
   ]
  },
  {
   "cell_type": "code",
   "execution_count": 63,
   "metadata": {},
   "outputs": [
    {
     "data": {
      "text/plain": [
       "<matplotlib.image.AxesImage at 0x1c28ce3438>"
      ]
     },
     "execution_count": 63,
     "metadata": {},
     "output_type": "execute_result"
    },
    {
     "data": {
      "image/png": "[encoded data removed]",
      "text/plain": [
       "<Figure size 432x288 with 1 Axes>"
      ]
     },
     "metadata": {
      "needs_background": "light"
     },
     "output_type": "display_data"
    }
   ],
   "source": [
    "label_im, nb_labels = ndimage.label(mask)\n",
    "plt.imshow(label_im) "
   ]
  },
  {
   "cell_type": "markdown",
   "metadata": {},
   "source": [
    "We could filter out the smaller blobs, here, the cutoff of the size is another parameter we could tweak."
   ]
  },
  {
   "cell_type": "code",
   "execution_count": 65,
   "metadata": {},
   "outputs": [
    {
     "data": {
      "text/plain": [
       "<matplotlib.image.AxesImage at 0x1c2995c7f0>"
      ]
     },
     "execution_count": 65,
     "metadata": {},
     "output_type": "execute_result"
    },
    {
     "data": {
      "image/png": "[encoded data removed]",
      "text/plain": [
       "<Figure size 432x288 with 1 Axes>"
      ]
     },
     "metadata": {
      "needs_background": "light"
     },
     "output_type": "display_data"
    }
   ],
   "source": [
    "# filter out smaller blobs\n",
    "sizes = ndimage.sum(mask, label_im, range(nb_labels + 1))\n",
    "\n",
    "size_cutoff = 50\n",
    "mask_size = sizes < size_cutoff\n",
    "remove_pixel = mask_size[label_im]\n",
    "\n",
    "label_im[remove_pixel] = 0\n",
    "plt.imshow(label_im)"
   ]
  },
  {
   "cell_type": "code",
   "execution_count": 66,
   "metadata": {},
   "outputs": [],
   "source": [
    "# separate out each mask.\n",
    "rois = []\n",
    "for i in np.unique(label_im)[1:]:\n",
    "    rois.append(label_im == i)"
   ]
  },
  {
   "cell_type": "markdown",
   "metadata": {},
   "source": [
    "Let's take a look at an example of the mask"
   ]
  },
  {
   "cell_type": "code",
   "execution_count": 67,
   "metadata": {},
   "outputs": [
    {
     "data": {
      "text/plain": [
       "<matplotlib.image.AxesImage at 0x1c299e8da0>"
      ]
     },
     "execution_count": 67,
     "metadata": {},
     "output_type": "execute_result"
    },
    {
     "data": {
      "image/png": "[encoded data removed]",
      "text/plain": [
       "<Figure size 432x288 with 1 Axes>"
      ]
     },
     "metadata": {
      "needs_background": "light"
     },
     "output_type": "display_data"
    }
   ],
   "source": [
    "plt.imshow(rois[1])"
   ]
  },
  {
   "cell_type": "markdown",
   "metadata": {},
   "source": [
    "Ideally, we would like to perform the segmentation with each average image, and each combination of parameters, threshold and size cutoff. Then we could compare the results of each parameter combination. DataJoint provides features that keep track of all parameter combinations."
   ]
  },
  {
   "cell_type": "markdown",
   "metadata": {},
   "source": [
    "## Lookup table for parameter sets"
   ]
  },
  {
   "cell_type": "code",
   "execution_count": 74,
   "metadata": {},
   "outputs": [],
   "source": [
    "@schema\n",
    "class ParameterSet(dj.Lookup):\n",
    "    definition = \"\"\"\n",
    "    parameter_set_id    : int\n",
    "    ---\n",
    "    threshold           : float\n",
    "    size_cutoff         : float\n",
    "    \"\"\"\n",
    "    contents = [\n",
    "        [0, 50., 50.],\n",
    "        [1, 60., 50.],\n",
    "        [2, 50., 30.]\n",
    "    ]"
   ]
  },
  {
   "cell_type": "markdown",
   "metadata": {},
   "source": [
    "The lookup table inherits `dj.Lookup`. We could cuse this lookup table to save the values of each parameter combination. The definition part is the same as the manual table and imported table introduced previously. Additionally, it has a special property `contents` that allows direct insertion when declaring the class."
   ]
  },
  {
   "cell_type": "code",
   "execution_count": 75,
   "metadata": {},
   "outputs": [
    {
     "data": {
      "text/html": [
       "\n",
       "        \n",
       "        <style type=\"text/css\">\n",
       "            .Relation{\n",
       "                border-collapse:collapse;\n",
       "            }\n",
       "            .Relation th{\n",
       "                background: #A0A0A0; color: #ffffff; padding:4px; border:#f0e0e0 1px solid;\n",
       "                font-weight: normal; font-family: monospace; font-size: 100%;\n",
       "            }\n",
       "            .Relation td{\n",
       "                padding:4px; border:#f0e0e0 1px solid; font-size:100%;\n",
       "            }\n",
       "            .Relation tr:nth-child(odd){\n",
       "                background: #ffffff;\n",
       "            }\n",
       "            .Relation tr:nth-child(even){\n",
       "                background: #f3f1ff;\n",
       "            }\n",
       "            /* Tooltip container */\n",
       "            .djtooltip {\n",
       "            }\n",
       "            /* Tooltip text */\n",
       "            .djtooltip .djtooltiptext {\n",
       "                visibility: hidden;\n",
       "                width: 120px;\n",
       "                background-color: black;\n",
       "                color: #fff;\n",
       "                text-align: center;\n",
       "                padding: 5px 0;\n",
       "                border-radius: 6px;\n",
       "                /* Position the tooltip text - see examples below! */\n",
       "                position: absolute;\n",
       "                z-index: 1;\n",
       "            }\n",
       "            #primary {\n",
       "                font-weight: bold;\n",
       "                color: black;\n",
       "            }\n",
       "\n",
       "            #nonprimary {\n",
       "                font-weight: normal;\n",
       "                color: white;\n",
       "            }\n",
       "\n",
       "            /* Show the tooltip text when you mouse over the tooltip container */\n",
       "            .djtooltip:hover .djtooltiptext {\n",
       "                visibility: visible;\n",
       "            }\n",
       "        </style>\n",
       "        \n",
       "        <b></b>\n",
       "            <div style=\"max-height:1000px;max-width:1500px;overflow:auto;\">\n",
       "            <table border=\"1\" class=\"Relation\">\n",
       "                <thead> <tr style=\"text-align: right;\"> <th> <div class=\"djtooltip\">\n",
       "                                <p id=\"primary\">parameter_set_id</p>\n",
       "                                <span class=\"djtooltiptext\"></span>\n",
       "                            </div></th><th><div class=\"djtooltip\">\n",
       "                                <p id=\"nonprimary\">threshold</p>\n",
       "                                <span class=\"djtooltiptext\"></span>\n",
       "                            </div></th><th><div class=\"djtooltip\">\n",
       "                                <p id=\"nonprimary\">size_cutoff</p>\n",
       "                                <span class=\"djtooltiptext\"></span>\n",
       "                            </div> </th> </tr> </thead>\n",
       "                <tbody> <tr> <td>0</td>\n",
       "<td>50.0</td>\n",
       "<td>50.0</td></tr><tr><td>1</td>\n",
       "<td>60.0</td>\n",
       "<td>50.0</td></tr><tr><td>2</td>\n",
       "<td>50.0</td>\n",
       "<td>30.0</td> </tr> </tbody>\n",
       "            </table>\n",
       "            \n",
       "            <p>Total: 3</p></div>\n",
       "            "
      ],
      "text/plain": [
       "*parameter_set threshold     size_cutoff   \n",
       "+------------+ +-----------+ +------------+\n",
       "0              50.0          50.0          \n",
       "1              60.0          50.0          \n",
       "2              50.0          30.0          \n",
       " (Total: 3)"
      ]
     },
     "execution_count": 75,
     "metadata": {},
     "output_type": "execute_result"
    }
   ],
   "source": [
    "ParameterSet()"
   ]
  },
  {
   "cell_type": "markdown",
   "metadata": {},
   "source": [
    "## Computed table and Part table for Segmentation and ROI"
   ]
  },
  {
   "cell_type": "markdown",
   "metadata": {},
   "source": [
    "We will create a **computed** table to process and save results of the segmentation. The Computed table is very similar to the imported table and also supports definition of computation and auto-processing. The only difference is that all data needed for the computation is from the database and does not rely on external data files.\n",
    "\n",
    "\n",
    "We would like the segmentation to be performed for each combination of parameters and each datasets. Therefore, the primary key of this table refers to both `AverageFluorescence` and `ParameterSet`.\n",
    "\n",
    "The final product of the segmentation analyses is the mask of ROIs. To save the result on the level of each individual ROI, we will use a **part** table `Roi`. In addition to the primary key of its master `Segmentation`, the table `Roi` has an extra primary key attribute roi_idx. The computation and insertion were performed by its master table `Segmentation`."
   ]
  },
  {
   "cell_type": "code",
   "execution_count": 77,
   "metadata": {},
   "outputs": [],
   "source": [
    "@schema\n",
    "class Segmentation(dj.Computed):\n",
    "    definition = \"\"\"\n",
    "    -> AverageFluorescence\n",
    "    -> ParameterSet\n",
    "    ---\n",
    "    segmented_masks         : longblob   # overview of segmented masks\n",
    "    \"\"\"\n",
    "    def make(self, key): # key is one of the primary keys of the join product of AverageFluorescence and ParameterSet\n",
    "        \n",
    "        # fetch average image from the previous table AverageFluorescence\n",
    "        avg_image = (AverageFluorescence & key).fetch1('average_fluorescence')\n",
    "        \n",
    "        # fetch the parameters threshold and size_cutoff\n",
    "        threshold, size_cutoff = (ParameterSet & key).fetch1(\n",
    "            'threshold', 'size_cutoff')\n",
    "        \n",
    "        # perform the thresholding and blob detection\n",
    "        mask = avg_image > threshold\n",
    "        label_im, nb_labels = ndimage.label(mask)\n",
    "        sizes = ndimage.sum(mask, label_im, range(nb_labels + 1))\n",
    "        mask_size = sizes < size_cutoff\n",
    "        remove_pixel = mask_size[label_im]\n",
    "        label_im[remove_pixel] = 0\n",
    "        rois = [dict(**key, roi_idx=i, mask=label_im==label) for i, label in enumerate(np.unique(label_im)[1:])]\n",
    "        \n",
    "        self.insert1(\n",
    "            dict(**key, segmented_masks=label_im)\n",
    "        )\n",
    "        self.Roi.insert(rois)\n",
    "        \n",
    "    class Roi(dj.Part):\n",
    "        definition = \"\"\"\n",
    "        -> master\n",
    "        roi_idx             : int        # index of an roi\n",
    "        ---\n",
    "        mask                : longblob   # mask of this roi\n",
    "        \"\"\""
   ]
  },
  {
   "cell_type": "markdown",
   "metadata": {},
   "source": [
    "The benefit of having Part table here is to only import the average image once and get all segmentations ingested. The part table is not necessary if no results of smaller granularies are saved."
   ]
  },
  {
   "cell_type": "markdown",
   "metadata": {},
   "source": [
    "Now let's get the table populated"
   ]
  },
  {
   "cell_type": "code",
   "execution_count": 78,
   "metadata": {},
   "outputs": [
    {
     "name": "stderr",
     "output_type": "stream",
     "text": [
      "100%|██████████| 6/6 [00:13<00:00,  2.19s/it]\n"
     ]
    }
   ],
   "source": [
    "Segmentation.populate(display_progress=True)"
   ]
  },
  {
   "cell_type": "markdown",
   "metadata": {},
   "source": [
    "There are 6 entries got populated:"
   ]
  },
  {
   "cell_type": "code",
   "execution_count": 82,
   "metadata": {},
   "outputs": [
    {
     "data": {
      "text/html": [
       "\n",
       "        \n",
       "        <style type=\"text/css\">\n",
       "            .Relation{\n",
       "                border-collapse:collapse;\n",
       "            }\n",
       "            .Relation th{\n",
       "                background: #A0A0A0; color: #ffffff; padding:4px; border:#f0e0e0 1px solid;\n",
       "                font-weight: normal; font-family: monospace; font-size: 100%;\n",
       "            }\n",
       "            .Relation td{\n",
       "                padding:4px; border:#f0e0e0 1px solid; font-size:100%;\n",
       "            }\n",
       "            .Relation tr:nth-child(odd){\n",
       "                background: #ffffff;\n",
       "            }\n",
       "            .Relation tr:nth-child(even){\n",
       "                background: #f3f1ff;\n",
       "            }\n",
       "            /* Tooltip container */\n",
       "            .djtooltip {\n",
       "            }\n",
       "            /* Tooltip text */\n",
       "            .djtooltip .djtooltiptext {\n",
       "                visibility: hidden;\n",
       "                width: 120px;\n",
       "                background-color: black;\n",
       "                color: #fff;\n",
       "                text-align: center;\n",
       "                padding: 5px 0;\n",
       "                border-radius: 6px;\n",
       "                /* Position the tooltip text - see examples below! */\n",
       "                position: absolute;\n",
       "                z-index: 1;\n",
       "            }\n",
       "            #primary {\n",
       "                font-weight: bold;\n",
       "                color: black;\n",
       "            }\n",
       "\n",
       "            #nonprimary {\n",
       "                font-weight: normal;\n",
       "                color: white;\n",
       "            }\n",
       "\n",
       "            /* Show the tooltip text when you mouse over the tooltip container */\n",
       "            .djtooltip:hover .djtooltiptext {\n",
       "                visibility: visible;\n",
       "            }\n",
       "        </style>\n",
       "        \n",
       "        <b></b>\n",
       "            <div style=\"max-height:1000px;max-width:1500px;overflow:auto;\">\n",
       "            <table border=\"1\" class=\"Relation\">\n",
       "                <thead> <tr style=\"text-align: right;\"> <th> <div class=\"djtooltip\">\n",
       "                                <p id=\"primary\">mouse_id</p>\n",
       "                                <span class=\"djtooltiptext\">Unique animal ID</span>\n",
       "                            </div></th><th><div class=\"djtooltip\">\n",
       "                                <p id=\"primary\">session_number</p>\n",
       "                                <span class=\"djtooltiptext\">session number</span>\n",
       "                            </div></th><th><div class=\"djtooltip\">\n",
       "                                <p id=\"primary\">scan_idx</p>\n",
       "                                <span class=\"djtooltiptext\">scan index</span>\n",
       "                            </div></th><th><div class=\"djtooltip\">\n",
       "                                <p id=\"primary\">parameter_set_id</p>\n",
       "                                <span class=\"djtooltiptext\"></span>\n",
       "                            </div></th><th><div class=\"djtooltip\">\n",
       "                                <p id=\"nonprimary\">segmented_masks</p>\n",
       "                                <span class=\"djtooltiptext\">overview of segmented masks</span>\n",
       "                            </div> </th> </tr> </thead>\n",
       "                <tbody> <tr> <td>0</td>\n",
       "<td>1</td>\n",
       "<td>1</td>\n",
       "<td>0</td>\n",
       "<td>=BLOB=</td></tr><tr><td>0</td>\n",
       "<td>1</td>\n",
       "<td>2</td>\n",
       "<td>0</td>\n",
       "<td>=BLOB=</td></tr><tr><td>0</td>\n",
       "<td>1</td>\n",
       "<td>1</td>\n",
       "<td>1</td>\n",
       "<td>=BLOB=</td></tr><tr><td>0</td>\n",
       "<td>1</td>\n",
       "<td>2</td>\n",
       "<td>1</td>\n",
       "<td>=BLOB=</td></tr><tr><td>0</td>\n",
       "<td>1</td>\n",
       "<td>1</td>\n",
       "<td>2</td>\n",
       "<td>=BLOB=</td></tr><tr><td>0</td>\n",
       "<td>1</td>\n",
       "<td>2</td>\n",
       "<td>2</td>\n",
       "<td>=BLOB=</td> </tr> </tbody>\n",
       "            </table>\n",
       "            \n",
       "            <p>Total: 6</p></div>\n",
       "            "
      ],
      "text/plain": [
       "*mouse_id    *session_numbe *scan_idx    *parameter_set segmented_\n",
       "+----------+ +------------+ +----------+ +------------+ +--------+\n",
       "0            1              1            0              =BLOB=    \n",
       "0            1              2            0              =BLOB=    \n",
       "0            1              1            1              =BLOB=    \n",
       "0            1              2            1              =BLOB=    \n",
       "0            1              1            2              =BLOB=    \n",
       "0            1              2            2              =BLOB=    \n",
       " (Total: 6)"
      ]
     },
     "execution_count": 82,
     "metadata": {},
     "output_type": "execute_result"
    }
   ],
   "source": [
    "Segmentation()"
   ]
  },
  {
   "cell_type": "code",
   "execution_count": 83,
   "metadata": {},
   "outputs": [
    {
     "data": {
      "text/html": [
       "\n",
       "        \n",
       "        <style type=\"text/css\">\n",
       "            .Relation{\n",
       "                border-collapse:collapse;\n",
       "            }\n",
       "            .Relation th{\n",
       "                background: #A0A0A0; color: #ffffff; padding:4px; border:#f0e0e0 1px solid;\n",
       "                font-weight: normal; font-family: monospace; font-size: 100%;\n",
       "            }\n",
       "            .Relation td{\n",
       "                padding:4px; border:#f0e0e0 1px solid; font-size:100%;\n",
       "            }\n",
       "            .Relation tr:nth-child(odd){\n",
       "                background: #ffffff;\n",
       "            }\n",
       "            .Relation tr:nth-child(even){\n",
       "                background: #f3f1ff;\n",
       "            }\n",
       "            /* Tooltip container */\n",
       "            .djtooltip {\n",
       "            }\n",
       "            /* Tooltip text */\n",
       "            .djtooltip .djtooltiptext {\n",
       "                visibility: hidden;\n",
       "                width: 120px;\n",
       "                background-color: black;\n",
       "                color: #fff;\n",
       "                text-align: center;\n",
       "                padding: 5px 0;\n",
       "                border-radius: 6px;\n",
       "                /* Position the tooltip text - see examples below! */\n",
       "                position: absolute;\n",
       "                z-index: 1;\n",
       "            }\n",
       "            #primary {\n",
       "                font-weight: bold;\n",
       "                color: black;\n",
       "            }\n",
       "\n",
       "            #nonprimary {\n",
       "                font-weight: normal;\n",
       "                color: white;\n",
       "            }\n",
       "\n",
       "            /* Show the tooltip text when you mouse over the tooltip container */\n",
       "            .djtooltip:hover .djtooltiptext {\n",
       "                visibility: visible;\n",
       "            }\n",
       "        </style>\n",
       "        \n",
       "        <b></b>\n",
       "            <div style=\"max-height:1000px;max-width:1500px;overflow:auto;\">\n",
       "            <table border=\"1\" class=\"Relation\">\n",
       "                <thead> <tr style=\"text-align: right;\"> <th> <div class=\"djtooltip\">\n",
       "                                <p id=\"primary\">mouse_id</p>\n",
       "                                <span class=\"djtooltiptext\">Unique animal ID</span>\n",
       "                            </div></th><th><div class=\"djtooltip\">\n",
       "                                <p id=\"primary\">session_number</p>\n",
       "                                <span class=\"djtooltiptext\">session number</span>\n",
       "                            </div></th><th><div class=\"djtooltip\">\n",
       "                                <p id=\"primary\">scan_idx</p>\n",
       "                                <span class=\"djtooltiptext\">scan index</span>\n",
       "                            </div></th><th><div class=\"djtooltip\">\n",
       "                                <p id=\"primary\">parameter_set_id</p>\n",
       "                                <span class=\"djtooltiptext\"></span>\n",
       "                            </div></th><th><div class=\"djtooltip\">\n",
       "                                <p id=\"primary\">roi_idx</p>\n",
       "                                <span class=\"djtooltiptext\">index of an roi</span>\n",
       "                            </div></th><th><div class=\"djtooltip\">\n",
       "                                <p id=\"nonprimary\">mask</p>\n",
       "                                <span class=\"djtooltiptext\">mask of this roi</span>\n",
       "                            </div> </th> </tr> </thead>\n",
       "                <tbody> <tr> <td>0</td>\n",
       "<td>1</td>\n",
       "<td>1</td>\n",
       "<td>0</td>\n",
       "<td>0</td>\n",
       "<td>=BLOB=</td></tr><tr><td>0</td>\n",
       "<td>1</td>\n",
       "<td>1</td>\n",
       "<td>0</td>\n",
       "<td>1</td>\n",
       "<td>=BLOB=</td></tr><tr><td>0</td>\n",
       "<td>1</td>\n",
       "<td>1</td>\n",
       "<td>0</td>\n",
       "<td>2</td>\n",
       "<td>=BLOB=</td></tr><tr><td>0</td>\n",
       "<td>1</td>\n",
       "<td>1</td>\n",
       "<td>0</td>\n",
       "<td>3</td>\n",
       "<td>=BLOB=</td></tr><tr><td>0</td>\n",
       "<td>1</td>\n",
       "<td>1</td>\n",
       "<td>0</td>\n",
       "<td>4</td>\n",
       "<td>=BLOB=</td></tr><tr><td>0</td>\n",
       "<td>1</td>\n",
       "<td>1</td>\n",
       "<td>0</td>\n",
       "<td>5</td>\n",
       "<td>=BLOB=</td></tr><tr><td>0</td>\n",
       "<td>1</td>\n",
       "<td>1</td>\n",
       "<td>1</td>\n",
       "<td>0</td>\n",
       "<td>=BLOB=</td></tr><tr><td>0</td>\n",
       "<td>1</td>\n",
       "<td>1</td>\n",
       "<td>1</td>\n",
       "<td>1</td>\n",
       "<td>=BLOB=</td></tr><tr><td>0</td>\n",
       "<td>1</td>\n",
       "<td>1</td>\n",
       "<td>1</td>\n",
       "<td>2</td>\n",
       "<td>=BLOB=</td></tr><tr><td>0</td>\n",
       "<td>1</td>\n",
       "<td>1</td>\n",
       "<td>2</td>\n",
       "<td>0</td>\n",
       "<td>=BLOB=</td></tr><tr><td>0</td>\n",
       "<td>1</td>\n",
       "<td>1</td>\n",
       "<td>2</td>\n",
       "<td>1</td>\n",
       "<td>=BLOB=</td></tr><tr><td>0</td>\n",
       "<td>1</td>\n",
       "<td>1</td>\n",
       "<td>2</td>\n",
       "<td>2</td>\n",
       "<td>=BLOB=</td> </tr> </tbody>\n",
       "            </table>\n",
       "            <p>...</p>\n",
       "            <p>Total: 36</p></div>\n",
       "            "
      ],
      "text/plain": [
       "*mouse_id    *session_numbe *scan_idx    *parameter_set *roi_idx    mask      \n",
       "+----------+ +------------+ +----------+ +------------+ +---------+ +--------+\n",
       "0            1              1            0              0           =BLOB=    \n",
       "0            1              1            0              1           =BLOB=    \n",
       "0            1              1            0              2           =BLOB=    \n",
       "0            1              1            0              3           =BLOB=    \n",
       "0            1              1            0              4           =BLOB=    \n",
       "0            1              1            0              5           =BLOB=    \n",
       "0            1              1            1              0           =BLOB=    \n",
       "0            1              1            1              1           =BLOB=    \n",
       "0            1              1            1              2           =BLOB=    \n",
       "0            1              1            2              0           =BLOB=    \n",
       "0            1              1            2              1           =BLOB=    \n",
       "0            1              1            2              2           =BLOB=    \n",
       "   ...\n",
       " (Total: 36)"
      ]
     },
     "execution_count": 83,
     "metadata": {},
     "output_type": "execute_result"
    }
   ],
   "source": [
    "Segmentation.Roi()"
   ]
  },
  {
   "cell_type": "code",
   "execution_count": 89,
   "metadata": {},
   "outputs": [
    {
     "data": {
      "text/plain": [
       "<matplotlib.image.AxesImage at 0x1c2a47c128>"
      ]
     },
     "execution_count": 89,
     "metadata": {},
     "output_type": "execute_result"
    },
    {
     "data": {
      "image/png": "[encoded data removed]",
      "text/plain": [
       "<Figure size 432x288 with 1 Axes>"
      ]
     },
     "metadata": {
      "needs_background": "light"
     },
     "output_type": "display_data"
    }
   ],
   "source": [
    "# show one example ROI\n",
    "mask = (Segmentation.Roi & dict(mouse_id=0, \n",
    "                                session_number=1, \n",
    "                                scan_idx=1, \n",
    "                                parameter_set_id=0, \n",
    "                                roi_idx=5)).fetch1('mask')\n",
    "plt.imshow(mask)"
   ]
  },
  {
   "cell_type": "markdown",
   "metadata": {},
   "source": [
    "# Fluorescence trace of each segmented ROI"
   ]
  },
  {
   "cell_type": "markdown",
   "metadata": {},
   "source": [
    "Now we got masks of ROIs in the table `Segmetation.Roi` obtained with different parameter combinations. We would like to extract the fluorescence trace of each segmentation."
   ]
  },
  {
   "cell_type": "code",
   "execution_count": 121,
   "metadata": {},
   "outputs": [],
   "source": [
    "@schema\n",
    "class Fluorescence(dj.Imported): # imported table because it also rely on the external tiff file.\n",
    "    definition = \"\"\"\n",
    "    -> Segmentation\n",
    "    ---\n",
    "    time    : longblob    # time for each frame\n",
    "    \"\"\"\n",
    "    \n",
    "    # the master table is mainly to perform the computation, while the part table contains the result\n",
    "    def make(self, key):\n",
    "        \n",
    "        \n",
    "        \n",
    "        # fetch data directory from table Session\n",
    "        data_path = (experiment.Session & key).fetch1('data_path')\n",
    "        \n",
    "        # fetch data file name from table Scan\n",
    "        file_name = (Scan & key).fetch1('file_name')\n",
    "        \n",
    "        # load the file\n",
    "        im = io.imread(os.path.join(data_path, file_name))\n",
    "        \n",
    "        # get dimensions of the image and reshape\n",
    "        n, w, h = np.shape(im)\n",
    "        im_reshaped = np.reshape(im, [n, w*h])\n",
    "        \n",
    "        # get frames per second to compute time\n",
    "        fps = (Scan & key).fetch1('fps')\n",
    "        \n",
    "        # insert into master table first\n",
    "        self.insert1(dict(**key, time=np.array(range(n))/fps))\n",
    "        \n",
    "        \n",
    "        # extract traces\n",
    "        roi_keys, masks = (Segmentation.Roi & key).fetch('KEY', 'mask')\n",
    "        \n",
    "        traces = []\n",
    "        for roi_key, mask in zip(roi_keys, masks):\n",
    "            \n",
    "            # reshape mask\n",
    "            mask_reshaped = np.reshape(mask, [w*h])\n",
    "            trace = np.mean(im_reshaped[:, mask_reshaped], axis=1)\n",
    "            \n",
    "            traces.append(dict(**roi_key, trace=trace))\n",
    "        \n",
    "        self.Trace.insert(traces)\n",
    "        \n",
    "    class Trace(dj.Part):\n",
    "        definition = \"\"\"\n",
    "        -> master\n",
    "        -> Segmentation.Roi\n",
    "        ---\n",
    "        trace      :  longblob    # fluorescence trace of each ROI\n",
    "        \"\"\"\n",
    "        "
   ]
  },
  {
   "cell_type": "code",
   "execution_count": 122,
   "metadata": {},
   "outputs": [
    {
     "name": "stderr",
     "output_type": "stream",
     "text": [
      "100%|██████████| 6/6 [00:58<00:00, 10.50s/it]\n"
     ]
    }
   ],
   "source": [
    "Fluorescence.populate(display_progress=True)"
   ]
  },
  {
   "cell_type": "markdown",
   "metadata": {},
   "source": [
    "Now we could plot the traces of a single scan with a certain combination of parameters."
   ]
  },
  {
   "cell_type": "code",
   "execution_count": 138,
   "metadata": {},
   "outputs": [
    {
     "data": {
      "text/plain": [
       "Text(0, 0.5, 'Fluorescence')"
      ]
     },
     "execution_count": 138,
     "metadata": {},
     "output_type": "execute_result"
    },
    {
     "data": {
      "image/png": "[encoded data removed]",
      "text/plain": [
       "<Figure size 432x288 with 1 Axes>"
      ]
     },
     "metadata": {
      "needs_background": "light"
     },
     "output_type": "display_data"
    }
   ],
   "source": [
    "key = dict(mouse_id=0, session_number=1, scan_idx=1, parameter_set_id=0)\n",
    "\n",
    "time = (Fluorescence & key).fetch1('time')\n",
    "traces = (Fluorescence.Trace & key).fetch('trace')\n",
    "\n",
    "plt.plot(time, np.vstack(traces).T)\n",
    "plt.xlabel('Time (s)')\n",
    "plt.ylabel('Fluorescence')"
   ]
  }
 ],
 "metadata": {
  "kernelspec": {
   "display_name": "Python 3",
   "language": "python",
   "name": "python3"
  },
  "language_info": {
   "codemirror_mode": {
    "name": "ipython",
    "version": 3
   },
   "file_extension": ".py",
   "mimetype": "text/x-python",
   "name": "python",
   "nbconvert_exporter": "python",
   "pygments_lexer": "ipython3",
   "version": "3.7.3"
  }
 },
 "nbformat": 4,
 "nbformat_minor": 2
}
