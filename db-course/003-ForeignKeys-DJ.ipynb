{
 "cells": [
  {
   "cell_type": "markdown",
   "metadata": {},
   "source": [
    "# Referential integrity"
   ]
  },
  {
   "cell_type": "markdown",
   "metadata": {},
   "source": [
    "## Referential integrity\n",
    "\n",
    "Corresponding entities between different tables are correctly matched. Avoid mismatches"
   ]
  },
  {
   "cell_type": "markdown",
   "metadata": {},
   "source": [
    "## Diagramming notation \n",
    "\n",
    "- Entity-relationship diagram"
   ]
  },
  {
   "cell_type": "code",
   "execution_count": 3,
   "metadata": {},
   "outputs": [],
   "source": [
    "import datajoint as dj\n",
    "\n",
    "schema = dj.Schema('person')"
   ]
  },
  {
   "cell_type": "code",
   "execution_count": 4,
   "metadata": {},
   "outputs": [],
   "source": [
    "@schema\n",
    "class Title(dj.Lookup):\n",
    "    definition = \"\"\"\n",
    "    title_code  : char(8)\n",
    "    ---\n",
    "    full_title : varchar(120)\n",
    "    \"\"\"\n",
    "    \n",
    "    contents = [\n",
    "        (\"SW-Dev1\", \"Software Developer 1\"),\n",
    "        (\"SW-Dev2\", \"Software Developer 2\"),\n",
    "        (\"SW-Dev3\", \"Software Developer 3\"),\n",
    "        (\"Web-Dev1\", \"Web Developer 1\"),\n",
    "        (\"Web-Dev2\", \"Web Developer 2\"),\n",
    "        (\"Web-Dev3\", \"Web Developer 3\"),\n",
    "        (\"HR-Mgr\", \"Human Resources Manager\")\n",
    "    ]"
   ]
  },
  {
   "cell_type": "code",
   "execution_count": 5,
   "metadata": {},
   "outputs": [],
   "source": [
    "@schema\n",
    "class Person(dj.Manual):\n",
    "    definition = \"\"\"\n",
    "    person_id  :  int \n",
    "    ---\n",
    "    first_name : varchar(30)\n",
    "    last_name : varchar(30)\n",
    "    -> Title\n",
    "    \"\"\""
   ]
  },
  {
   "cell_type": "code",
   "execution_count": 6,
   "metadata": {},
   "outputs": [],
   "source": [
    "@schema \n",
    "class Language(dj.Lookup):\n",
    "    definition = \"\"\"\n",
    "    lang_code  : char(8)\n",
    "    ---\n",
    "    language : varchar(20)\n",
    "    \"\"\"\n",
    "    \n",
    "    contents = [\n",
    "        (\"Eng\", \"English\"),\n",
    "        (\"Nav\", \"Navajo\"),\n",
    "        (\"Fr\", \"French\"),\n",
    "        (\"It\", \"Italian\")        \n",
    "    ]"
   ]
  },
  {
   "cell_type": "code",
   "execution_count": 7,
   "metadata": {},
   "outputs": [],
   "source": [
    "@schema\n",
    "class LanguageSkill(dj.Manual):\n",
    "    definition = \"\"\"\n",
    "    -> Person\n",
    "    -> Language\n",
    "    ---\n",
    "    skill_level  : enum(\"beginner\", \"intermediate\", \"fluent\", \"native\")\n",
    "    \"\"\""
   ]
  },
  {
   "cell_type": "code",
   "execution_count": null,
   "metadata": {},
   "outputs": [],
   "source": []
  }
 ],
 "metadata": {
  "kernelspec": {
   "display_name": "Python 3",
   "language": "python",
   "name": "python3"
  },
  "language_info": {
   "codemirror_mode": {
    "name": "ipython",
    "version": 3
   },
   "file_extension": ".py",
   "mimetype": "text/x-python",
   "name": "python",
   "nbconvert_exporter": "python",
   "pygments_lexer": "ipython3",
   "version": "3.9.17"
  },
  "orig_nbformat": 4
 },
 "nbformat": 4,
 "nbformat_minor": 2
}
